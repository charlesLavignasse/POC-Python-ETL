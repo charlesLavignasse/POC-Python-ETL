{
 "cells": [
  {
   "cell_type": "markdown",
   "id": "819dfe37-072a-4823-b9e6-e109f5b74fe9",
   "metadata": {},
   "source": [
    "# L'objectif de ce notebook sera de réaliser une ébauche de solution ETL en python"
   ]
  },
  {
   "cell_type": "code",
   "execution_count": 1,
   "id": "66da759f-4206-484a-8054-93abffc00007",
   "metadata": {},
   "outputs": [],
   "source": [
    "#Import des packages necessaires à la réalisation du projet\n",
    "import pyodbc \n",
    "import pyspark\n",
    "import pandas as pd\n",
    "import pandasql as ps\n",
    "import sqlalchemy"
   ]
  },
  {
   "cell_type": "code",
   "execution_count": 2,
   "id": "521420aa-e316-4f51-b818-93f23e5c70f5",
   "metadata": {},
   "outputs": [],
   "source": [
    "#creation des variables depuis le fichier de configuration qui doit être placé dans le même dossier que le notebook\n",
    "from configparser import ConfigParser\n",
    "#recuperation de la configuration de la connexion stg_babilou pour la donnee procare\n",
    "config = ConfigParser()\n",
    "config.read('config.ini')\n",
    "database_procare = config['procare']['database']\n",
    "sqlsUrl = config['procare']['host']\n",
    "username = config['procare']['username']\n",
    "password = config['procare']['password']\n",
    "port = config['procare']['port']\n",
    "\n",
    "#recuperation de la configuration de la connexion stg_babilou pour la donnee date\n",
    "config = ConfigParser()\n",
    "config.read('config.ini')\n",
    "database_date = config['date']['database']\n",
    "sqlsUrl = config['date']['host']\n",
    "username = config['date']['username']\n",
    "password = config['date']['password']\n",
    "port = config['date']['port']"
   ]
  },
  {
   "cell_type": "markdown",
   "id": "cc30fbb6-6da4-4b51-b9f8-5dd30661f870",
   "metadata": {
    "tags": []
   },
   "source": [
    "## Utilisation de pyodbc pour la connexion à la base de donnée SQL SERVER"
   ]
  },
  {
   "cell_type": "code",
   "execution_count": 3,
   "id": "6cb41767-757b-45a3-b0ad-75c36a889712",
   "metadata": {},
   "outputs": [],
   "source": [
    "#String de connexion procare\n",
    "connection_string_procare ='DRIVER={SQL Server Native Client 11.0};SERVER='+sqlsUrl+';DATABASE='+database_procare+';UID='+username+';PWD='+password+';Encrypt=yes;TrustServerCertificate=no;Connection Timeout=30;Authentication=ActiveDirectoryIntegrated'\n",
    "#String de connexion date\n",
    "connection_string_date ='DRIVER={SQL Server Native Client 11.0};SERVER='+sqlsUrl+';DATABASE='+database_date+';UID='+username+';PWD='+password+';Encrypt=yes;TrustServerCertificate=no;Connection Timeout=30;Authentication=ActiveDirectoryIntegrated'"
   ]
  },
  {
   "cell_type": "code",
   "execution_count": 4,
   "id": "e1895b45-f65a-48ae-a835-2258f51f81d2",
   "metadata": {},
   "outputs": [],
   "source": [
    "#connexion a la base STG_BABILOU pour recuperer les donnees procare\n",
    "cnxn_procare:pyodbc.Connection= pyodbc.connect(connection_string_procare)\n",
    "\n",
    "#connexion a la base DWH_BABILOU pour recuperer les donnees de dates\n",
    "cnxn_date:pyodbc.Connection= pyodbc.connect(connection_string_date)"
   ]
  },
  {
   "cell_type": "code",
   "execution_count": 6,
   "id": "acda191d-9798-48cf-9c8b-a4c147bd275d",
   "metadata": {},
   "outputs": [],
   "source": [
    "#Requetes pour interroger les bases DW_BABILOU et STG_BABILOU\n",
    "\n",
    "#select_query= 'Select * from STG_PROCARE_AR_SCHEDULE'\n",
    "\n",
    "select_procare_query = '''\n",
    "WITH SCHOOL AS\n",
    "(SELECT \n",
    "\t   SCO.[SchoolID]\n",
    "      ,SCO.[Code]\n",
    "      ,SCO.[SchoolName]\n",
    "\t  ,SCO.[Database]\n",
    "\t  ,CHI.[ChildSchoolID]\n",
    "\t  ,CHI.PersonID\n",
    "  FROM [dbo].[STG_PROCARE_G_SCHOOLS] SCO\n",
    "  INNER JOIN STG_PROCARE_AR_CHILDSCHOOL CHI\n",
    "\tON (SCO.SchoolID = CHI.SchoolID))\n",
    "\n",
    "SELECT \n",
    "SCH.ScheduleKeyID\n",
    ",SCO.PersonID\n",
    ",SCO.SchoolID\n",
    ",SCH.[Database]\n",
    ",(SCD.OutMinute-SCD.InMinute)/60.00 AS HoursWorked\n",
    ",SCH.StartAppliesTo\n",
    ",SCH.EndAppliesTo\n",
    ",SCD.DayNumber\n",
    ",ENR.StartDate\n",
    ",ENR.EndDate\n",
    ",SCH.ScheduleID\n",
    ",GETDATE() AS ExtractDate \n",
    "\n",
    "FROM STG_PROCARE_AR_SCHEDULE SCH\n",
    "INNER JOIN STG_PROCARE_AR_SCHEDULEDETAIL SCD\n",
    "\tON (SCH.ScheduleKeyID=SCD.ScheduleKeyID\n",
    "\t\tand SCH.[Database]=SCD.[Database])\n",
    "INNER JOIN STG_PROCARE_G_TYPESTABLE TYP\n",
    "\tON (SCH.ChildSchoolID=TYP.TypeID\n",
    "\t\tand SCH.[Database]=TYP.[Database])\n",
    "INNER JOIN STG_PROCARE_AR_ENROLLMENT ENR\n",
    "\tON (SCH.ChildSchoolID=ENR.ChildSchoolID\n",
    "\t\tand SCH.[Database]=ENR.[Database])\n",
    "/*INNER JOIN STG_PROCARE_G_SCHOOLS SCO\n",
    "\tON (SCH.ChildSchoolID=SCO.SchoolID\n",
    "\t\tand SCH.[Database]=SCO.[Database]) */\n",
    "INNER JOIN SCHOOL SCO\n",
    "\tON (SCH.ChildSchoolID=SCO.ChildSchoolID)\n",
    "'''\n",
    "\n",
    "select_date_query = '''\n",
    "SELECT \n",
    "      [DT_DATE]\n",
    "      ,[DAY_OF_WEEK]\n",
    "      ,[LB_DAY_NAME]\n",
    "  FROM [dbo].[D_TIME]\n",
    "  '''"
   ]
  },
  {
   "cell_type": "code",
   "execution_count": 7,
   "id": "dc7127bd-5bfa-4286-8215-083299ced91d",
   "metadata": {},
   "outputs": [],
   "source": [
    "# Creation du dataframe procare\n",
    "data_procare = pd.read_sql(select_procare_query,cnxn_procare)\n",
    "\n",
    "# Creation du dataframe date\n",
    "data_date = pd.read_sql(select_date_query,cnxn_date)\n",
    "\n",
    "#fermeture des connexions\n",
    "cnxn_procare.close()\n",
    "cnxn_date.close()"
   ]
  },
  {
   "cell_type": "markdown",
   "id": "563a6c76-6539-47e9-aad4-2d6bd300aa18",
   "metadata": {
    "tags": []
   },
   "source": [
    "## Utilisation des packages pandas et pandasql pour respecter les règles de gestion"
   ]
  },
  {
   "cell_type": "markdown",
   "id": "478d113d-454e-44be-9355-7b5d622d746f",
   "metadata": {},
   "source": [
    "* On cree la query qui sert à faire la jointure entre les deux dataframes precedemment crees\n",
    "* On fait une jointure glissante sur les dates de début et de fin de contrats\n",
    "* Le filtre nous permet de récupérer les données cohérentes (le premier jour de la semaine est forcément lundi)"
   ]
  },
  {
   "cell_type": "code",
   "execution_count": 8,
   "id": "7bf05f08-fad9-4ecd-b780-e81609f01584",
   "metadata": {},
   "outputs": [],
   "source": [
    "psql_join_query ='''\n",
    "SELECT * FROM data_procare pro\n",
    "INNER JOIN data_date DAT\n",
    "ON DAT.DT_DATE BETWEEN PRO.StartAppliesTo AND PRO.EndAppliesTo\n",
    "WHERE (PRO.DayNumber = 1 AND DAT.LB_DAY_NAME ='LUNDI')\n",
    "OR (PRO.DayNumber = 2 AND DAT.LB_DAY_NAME ='MARDI')\n",
    "OR (PRO.DayNumber = 3 AND DAT.LB_DAY_NAME ='MERCREDI')\n",
    "OR (PRO.DayNumber = 4 AND DAT.LB_DAY_NAME ='JEUDI')\n",
    "OR (PRO.DayNumber = 5 AND DAT.LB_DAY_NAME ='VENDREDI')\n",
    "OR (PRO.DayNumber = 6 AND DAT.LB_DAY_NAME ='SAMEDI')\n",
    "OR (PRO.DayNumber = 7 AND DAT.LB_DAY_NAME ='DIMANCHE')\n",
    ";\n",
    "'''"
   ]
  },
  {
   "cell_type": "markdown",
   "id": "d878e05d-e673-485a-95ab-bc27b42ff68a",
   "metadata": {},
   "source": [
    "* Execution de la query via pandasql pui affichage des 5 premières lignes"
   ]
  },
  {
   "cell_type": "code",
   "execution_count": 10,
   "id": "5106da06-14b1-4a61-b345-6aa2c0625e38",
   "metadata": {},
   "outputs": [
    {
     "data": {
      "text/html": [
       "<div>\n",
       "<style scoped>\n",
       "    .dataframe tbody tr th:only-of-type {\n",
       "        vertical-align: middle;\n",
       "    }\n",
       "\n",
       "    .dataframe tbody tr th {\n",
       "        vertical-align: top;\n",
       "    }\n",
       "\n",
       "    .dataframe thead th {\n",
       "        text-align: right;\n",
       "    }\n",
       "</style>\n",
       "<table border=\"1\" class=\"dataframe\">\n",
       "  <thead>\n",
       "    <tr style=\"text-align: right;\">\n",
       "      <th></th>\n",
       "      <th>ScheduleKeyID</th>\n",
       "      <th>PersonID</th>\n",
       "      <th>SchoolID</th>\n",
       "      <th>Database</th>\n",
       "      <th>HoursWorked</th>\n",
       "      <th>StartAppliesTo</th>\n",
       "      <th>EndAppliesTo</th>\n",
       "      <th>DayNumber</th>\n",
       "      <th>StartDate</th>\n",
       "      <th>EndDate</th>\n",
       "      <th>ScheduleID</th>\n",
       "      <th>ExtractDate</th>\n",
       "      <th>DT_DATE</th>\n",
       "      <th>DAY_OF_WEEK</th>\n",
       "      <th>LB_DAY_NAME</th>\n",
       "    </tr>\n",
       "  </thead>\n",
       "  <tbody>\n",
       "    <tr>\n",
       "      <th>0</th>\n",
       "      <td>4</td>\n",
       "      <td>146</td>\n",
       "      <td>4</td>\n",
       "      <td>Procare_52769129</td>\n",
       "      <td>9.0</td>\n",
       "      <td>2019-04-01 00:00:00.000000</td>\n",
       "      <td>2019-06-06 23:59:00.000000</td>\n",
       "      <td>1</td>\n",
       "      <td>2019-06-15 00:00:00.000000</td>\n",
       "      <td>2070-12-31 23:59:00.000000</td>\n",
       "      <td>3</td>\n",
       "      <td>2022-01-06 14:10:05.690000</td>\n",
       "      <td>2019-04-01 00:00:00.000000</td>\n",
       "      <td>1</td>\n",
       "      <td>LUNDI</td>\n",
       "    </tr>\n",
       "    <tr>\n",
       "      <th>1</th>\n",
       "      <td>4</td>\n",
       "      <td>146</td>\n",
       "      <td>4</td>\n",
       "      <td>Procare_52769129</td>\n",
       "      <td>9.0</td>\n",
       "      <td>2019-04-01 00:00:00.000000</td>\n",
       "      <td>2019-06-06 23:59:00.000000</td>\n",
       "      <td>1</td>\n",
       "      <td>2019-06-15 00:00:00.000000</td>\n",
       "      <td>2070-12-31 23:59:00.000000</td>\n",
       "      <td>3</td>\n",
       "      <td>2022-01-06 14:10:05.690000</td>\n",
       "      <td>2019-04-08 00:00:00.000000</td>\n",
       "      <td>1</td>\n",
       "      <td>LUNDI</td>\n",
       "    </tr>\n",
       "    <tr>\n",
       "      <th>2</th>\n",
       "      <td>4</td>\n",
       "      <td>146</td>\n",
       "      <td>4</td>\n",
       "      <td>Procare_52769129</td>\n",
       "      <td>9.0</td>\n",
       "      <td>2019-04-01 00:00:00.000000</td>\n",
       "      <td>2019-06-06 23:59:00.000000</td>\n",
       "      <td>1</td>\n",
       "      <td>2019-06-15 00:00:00.000000</td>\n",
       "      <td>2070-12-31 23:59:00.000000</td>\n",
       "      <td>3</td>\n",
       "      <td>2022-01-06 14:10:05.690000</td>\n",
       "      <td>2019-04-15 00:00:00.000000</td>\n",
       "      <td>1</td>\n",
       "      <td>LUNDI</td>\n",
       "    </tr>\n",
       "    <tr>\n",
       "      <th>3</th>\n",
       "      <td>4</td>\n",
       "      <td>146</td>\n",
       "      <td>4</td>\n",
       "      <td>Procare_52769129</td>\n",
       "      <td>9.0</td>\n",
       "      <td>2019-04-01 00:00:00.000000</td>\n",
       "      <td>2019-06-06 23:59:00.000000</td>\n",
       "      <td>1</td>\n",
       "      <td>2019-06-15 00:00:00.000000</td>\n",
       "      <td>2070-12-31 23:59:00.000000</td>\n",
       "      <td>3</td>\n",
       "      <td>2022-01-06 14:10:05.690000</td>\n",
       "      <td>2019-04-22 00:00:00.000000</td>\n",
       "      <td>1</td>\n",
       "      <td>LUNDI</td>\n",
       "    </tr>\n",
       "    <tr>\n",
       "      <th>4</th>\n",
       "      <td>4</td>\n",
       "      <td>146</td>\n",
       "      <td>4</td>\n",
       "      <td>Procare_52769129</td>\n",
       "      <td>9.0</td>\n",
       "      <td>2019-04-01 00:00:00.000000</td>\n",
       "      <td>2019-06-06 23:59:00.000000</td>\n",
       "      <td>1</td>\n",
       "      <td>2019-06-15 00:00:00.000000</td>\n",
       "      <td>2070-12-31 23:59:00.000000</td>\n",
       "      <td>3</td>\n",
       "      <td>2022-01-06 14:10:05.690000</td>\n",
       "      <td>2019-04-29 00:00:00.000000</td>\n",
       "      <td>1</td>\n",
       "      <td>LUNDI</td>\n",
       "    </tr>\n",
       "  </tbody>\n",
       "</table>\n",
       "</div>"
      ],
      "text/plain": [
       "   ScheduleKeyID  PersonID  SchoolID          Database  HoursWorked  \\\n",
       "0              4       146         4  Procare_52769129          9.0   \n",
       "1              4       146         4  Procare_52769129          9.0   \n",
       "2              4       146         4  Procare_52769129          9.0   \n",
       "3              4       146         4  Procare_52769129          9.0   \n",
       "4              4       146         4  Procare_52769129          9.0   \n",
       "\n",
       "               StartAppliesTo                EndAppliesTo  DayNumber  \\\n",
       "0  2019-04-01 00:00:00.000000  2019-06-06 23:59:00.000000          1   \n",
       "1  2019-04-01 00:00:00.000000  2019-06-06 23:59:00.000000          1   \n",
       "2  2019-04-01 00:00:00.000000  2019-06-06 23:59:00.000000          1   \n",
       "3  2019-04-01 00:00:00.000000  2019-06-06 23:59:00.000000          1   \n",
       "4  2019-04-01 00:00:00.000000  2019-06-06 23:59:00.000000          1   \n",
       "\n",
       "                    StartDate                     EndDate  ScheduleID  \\\n",
       "0  2019-06-15 00:00:00.000000  2070-12-31 23:59:00.000000           3   \n",
       "1  2019-06-15 00:00:00.000000  2070-12-31 23:59:00.000000           3   \n",
       "2  2019-06-15 00:00:00.000000  2070-12-31 23:59:00.000000           3   \n",
       "3  2019-06-15 00:00:00.000000  2070-12-31 23:59:00.000000           3   \n",
       "4  2019-06-15 00:00:00.000000  2070-12-31 23:59:00.000000           3   \n",
       "\n",
       "                  ExtractDate                     DT_DATE  DAY_OF_WEEK  \\\n",
       "0  2022-01-06 14:10:05.690000  2019-04-01 00:00:00.000000            1   \n",
       "1  2022-01-06 14:10:05.690000  2019-04-08 00:00:00.000000            1   \n",
       "2  2022-01-06 14:10:05.690000  2019-04-15 00:00:00.000000            1   \n",
       "3  2022-01-06 14:10:05.690000  2019-04-22 00:00:00.000000            1   \n",
       "4  2022-01-06 14:10:05.690000  2019-04-29 00:00:00.000000            1   \n",
       "\n",
       "  LB_DAY_NAME  \n",
       "0       LUNDI  \n",
       "1       LUNDI  \n",
       "2       LUNDI  \n",
       "3       LUNDI  \n",
       "4       LUNDI  "
      ]
     },
     "execution_count": 10,
     "metadata": {},
     "output_type": "execute_result"
    }
   ],
   "source": [
    "df_psql = ps.sqldf(psql_join_query)\n",
    "df_psql.head(5)"
   ]
  },
  {
   "cell_type": "markdown",
   "id": "04b7764a-c71b-4a0c-a10d-03e8da6af4f5",
   "metadata": {},
   "source": [
    "#### On recupere les donnees etp dans un dataframe pour les rajouter dans le dataframe final"
   ]
  },
  {
   "cell_type": "code",
   "execution_count": 11,
   "id": "bf49d325-28f9-41ce-b6c5-83923fdafbea",
   "metadata": {},
   "outputs": [],
   "source": [
    "df_etp = pd.read_csv('etp.csv',sep=';')"
   ]
  },
  {
   "cell_type": "markdown",
   "id": "2b852882-de48-4325-afe3-3d8bb8b415ec",
   "metadata": {},
   "source": [
    "* Conversion des donnees en decimal"
   ]
  },
  {
   "cell_type": "code",
   "execution_count": 12,
   "id": "7d218c80-562b-4d06-8c51-2f9659d2876f",
   "metadata": {},
   "outputs": [],
   "source": [
    "df_etp_int = df_etp.astype('float64')"
   ]
  },
  {
   "cell_type": "code",
   "execution_count": 13,
   "id": "e29f89de-13e0-48ca-953b-371e663973ad",
   "metadata": {
    "tags": []
   },
   "outputs": [],
   "source": [
    "sql_etp_query = '''\n",
    "SELECT \n",
    "PRO.*,\n",
    "ETP.[Correspondance ETP] \n",
    "FROM df_psql PRO\n",
    "INNER JOIN df_etp ETP\n",
    "ON PRO.HoursWorked BETWEEN ETP.MinDailyHour AND ETP.MaxDailyHour\n",
    "'''"
   ]
  },
  {
   "cell_type": "code",
   "execution_count": 16,
   "id": "51ff4948-f1bb-449c-b2ca-361efd1b0ea3",
   "metadata": {},
   "outputs": [],
   "source": [
    "df_join_etp = ps.sqldf(sql_etp_query)\n",
    "df_join_etp.head(2)"
   ]
  },
  {
   "cell_type": "markdown",
   "id": "e648539c-899a-4fa2-9829-ec9747a6bca4",
   "metadata": {},
   "source": [
    "## Creation de la table dans SQL Server via Pyodbc"
   ]
  },
  {
   "cell_type": "code",
   "execution_count": 25,
   "id": "1d942d40-99ac-4d19-9e4f-886bb75c3922",
   "metadata": {},
   "outputs": [],
   "source": [
    "#on établit une nouvelle connexion avec la base DW_BABILOU\n",
    "connexion_dwh = pyodbc.connect(connection_string_date)\n",
    "dwh_crusor = connexion_dwh.cursor()"
   ]
  },
  {
   "cell_type": "code",
   "execution_count": null,
   "id": "9aa812fb-32e1-4a0c-a33f-6359a6735333",
   "metadata": {},
   "outputs": [],
   "source": [
    "#Table déjà installée\n",
    "# dwh_crusor.execute('''\n",
    "# CREATE TABLE [dbo].PROCARE_ETP(\n",
    "#     Jour DATE,\n",
    "#     DayNumber INT,\n",
    "#     [Database] VARCHAR(40),\n",
    "#     PersonID INT,\n",
    "#     SchoolID INT,\n",
    "#     ETP DECIMAL (3,2),\n",
    "#     ExtractDate DATE\n",
    "# );\n",
    "# ''')\n",
    "#connexion_dwh.commit() #sert à confirmer les changements dans la base"
   ]
  },
  {
   "cell_type": "markdown",
   "id": "c287ff5e-8485-461d-8b7b-311401409a54",
   "metadata": {},
   "source": [
    "#### on efface les données de la table dont l'extractdate est à la date du jour "
   ]
  },
  {
   "cell_type": "code",
   "execution_count": 31,
   "id": "6fc1f37b-4135-4e69-8da6-417577bcf605",
   "metadata": {},
   "outputs": [],
   "source": [
    "dwh_crusor.execute('''DELETE FROM PROCARE_ETP WHERE ExtractDate = CONVERT (date, GETDATE())''')\n",
    "connexion_dwh.commit()"
   ]
  },
  {
   "cell_type": "markdown",
   "id": "bb16c5b8-88d4-49de-9e86-6fdb9a3d7113",
   "metadata": {},
   "source": [
    "## Insertion des donnees dans la table PROCATE_ETP nouvellement creee"
   ]
  },
  {
   "cell_type": "code",
   "execution_count": 19,
   "id": "cbf818f8-551d-4614-96a8-e688f0ae2652",
   "metadata": {},
   "outputs": [],
   "source": [
    "# On créé un nouveau DataFrame à l'image de la table finale\n",
    "df_insert_procareETP = ps.sqldf('''SELECT \n",
    "date(DT_DATE) AS jour,\n",
    "DayNumber,\n",
    "[Database],\n",
    "PersonID,\n",
    "SchoolID,\n",
    "[Correspondance ETP] AS ETP,\n",
    "date(ExtractDate) as ExtractDate\n",
    "FROM df_join_etp''')"
   ]
  },
  {
   "cell_type": "code",
   "execution_count": 20,
   "id": "a2c17a7e-8f4d-47c1-8b8d-3711128844a2",
   "metadata": {},
   "outputs": [
    {
     "data": {
      "text/html": [
       "<div>\n",
       "<style scoped>\n",
       "    .dataframe tbody tr th:only-of-type {\n",
       "        vertical-align: middle;\n",
       "    }\n",
       "\n",
       "    .dataframe tbody tr th {\n",
       "        vertical-align: top;\n",
       "    }\n",
       "\n",
       "    .dataframe thead th {\n",
       "        text-align: right;\n",
       "    }\n",
       "</style>\n",
       "<table border=\"1\" class=\"dataframe\">\n",
       "  <thead>\n",
       "    <tr style=\"text-align: right;\">\n",
       "      <th></th>\n",
       "      <th>jour</th>\n",
       "      <th>DayNumber</th>\n",
       "      <th>Database</th>\n",
       "      <th>PersonID</th>\n",
       "      <th>SchoolID</th>\n",
       "      <th>ETP</th>\n",
       "      <th>ExtractDate</th>\n",
       "    </tr>\n",
       "  </thead>\n",
       "  <tbody>\n",
       "    <tr>\n",
       "      <th>0</th>\n",
       "      <td>2019-04-01</td>\n",
       "      <td>1</td>\n",
       "      <td>Procare_52769129</td>\n",
       "      <td>146</td>\n",
       "      <td>4</td>\n",
       "      <td>0.2</td>\n",
       "      <td>2022-01-06</td>\n",
       "    </tr>\n",
       "    <tr>\n",
       "      <th>1</th>\n",
       "      <td>2019-04-08</td>\n",
       "      <td>1</td>\n",
       "      <td>Procare_52769129</td>\n",
       "      <td>146</td>\n",
       "      <td>4</td>\n",
       "      <td>0.2</td>\n",
       "      <td>2022-01-06</td>\n",
       "    </tr>\n",
       "  </tbody>\n",
       "</table>\n",
       "</div>"
      ],
      "text/plain": [
       "         jour  DayNumber          Database  PersonID  SchoolID  ETP  \\\n",
       "0  2019-04-01          1  Procare_52769129       146         4  0.2   \n",
       "1  2019-04-08          1  Procare_52769129       146         4  0.2   \n",
       "\n",
       "  ExtractDate  \n",
       "0  2022-01-06  \n",
       "1  2022-01-06  "
      ]
     },
     "execution_count": 20,
     "metadata": {},
     "output_type": "execute_result"
    }
   ],
   "source": [
    "df_insert_procareETP.head(2)"
   ]
  },
  {
   "cell_type": "markdown",
   "id": "144366a2-803f-4892-8cd4-26022baf639f",
   "metadata": {},
   "source": [
    "* quelques tests de connexion infructeux"
   ]
  },
  {
   "cell_type": "code",
   "execution_count": null,
   "id": "9639f851-f39e-40d9-abba-617de019cad8",
   "metadata": {
    "jupyter": {
     "source_hidden": true
    },
    "tags": []
   },
   "outputs": [],
   "source": [
    "for index,row in df_insert_procareETP.iterrows():\n",
    "    dwh_crusor.execute('''INSERT INTO PROCATE_ETP(\n",
    "                  [jour],\n",
    "                  [DayNumber],\n",
    "                  [Database],\n",
    "                  PersonID,\n",
    "                  SchoolID,\n",
    "                  ETP,\n",
    "                  ExtractDate) \n",
    "                  values (?,?,?,?,?,?,?)''', \n",
    "                  row['jour'], \n",
    "                  row['DayNumber'], \n",
    "                  row['Database'],\n",
    "                  row['PersonID'],\n",
    "                  row['SchoolID'],\n",
    "                  row['ETP'],\n",
    "                  row['ExtractDate'])"
   ]
  },
  {
   "cell_type": "code",
   "execution_count": null,
   "id": "b9fe8bbf-1b9c-4040-951c-5d3f841e5d9f",
   "metadata": {
    "jupyter": {
     "source_hidden": true
    },
    "tags": []
   },
   "outputs": [],
   "source": [
    "df_insert_procareETP.to_sql('PROCARE_ETP',connexion_dwh,)"
   ]
  },
  {
   "cell_type": "code",
   "execution_count": null,
   "id": "d7dae4b4-a732-4383-bfe8-dad1a6582bc8",
   "metadata": {
    "jupyter": {
     "source_hidden": true
    },
    "tags": []
   },
   "outputs": [],
   "source": [
    "dwh_crusor.execute('''\n",
    "INSERT INTO [dbo].PROCATE_ETP(\n",
    "jour,\n",
    "DayNumber,\n",
    "[Database],\n",
    "PersonID,\n",
    "SchoolID,\n",
    "ETP,\n",
    "ExtractDate)\n",
    "\n",
    "SELECT \n",
    "CAST(DT_DATE AS DATE) AS JOUR,\n",
    "DayNumber,\n",
    "[Database],\n",
    "PersonID,\n",
    "SchoolID,\n",
    "[Correspondance ETP] AS ETP,\n",
    "ExtractDate\n",
    "FROM df_join_etp\n",
    "''')"
   ]
  },
  {
   "cell_type": "code",
   "execution_count": null,
   "id": "269a0d52-3bab-4348-8bc6-15f135784a3c",
   "metadata": {
    "jupyter": {
     "source_hidden": true
    },
    "tags": []
   },
   "outputs": [],
   "source": [
    "connexion_dwh.commit() #sert à enregistrer les modifications dans la base"
   ]
  },
  {
   "cell_type": "markdown",
   "id": "e892c25c-69c2-446f-856e-3cf84cd6ef4c",
   "metadata": {
    "tags": []
   },
   "source": [
    "## Script d'insertion dans la table, pandas.to_sql et sqlachemy"
   ]
  },
  {
   "cell_type": "markdown",
   "id": "65fd6d9e-7c56-4d16-a25a-31f7377278cb",
   "metadata": {},
   "source": [
    "* On cree les informations de connexion à la table en utilisant le connexion string utilise precedemment dans pyodbc"
   ]
  },
  {
   "cell_type": "code",
   "execution_count": 37,
   "id": "48420253-9b7a-44a2-b788-f494fd14c201",
   "metadata": {},
   "outputs": [],
   "source": [
    "from sqlalchemy.engine import URL,create_engine\n",
    "\n",
    "connection_url = URL.create(\"mssql+pyodbc\", query={\"odbc_connect\": connection_string_date})\n",
    "\n",
    "engine = create_engine(connection_url,fast_executemany=True)"
   ]
  },
  {
   "cell_type": "code",
   "execution_count": 38,
   "id": "71c73af2-7f65-4466-b0f4-e33231c5eb2c",
   "metadata": {},
   "outputs": [],
   "source": [
    "#https://docs.sqlalchemy.org/en/14/dialects/mssql.html#module-sqlalchemy.dialects.mssql.pyodbc\n",
    "#https://pandas.pydata.org/docs/reference/api/pandas.DataFrame.to_sql.html\n",
    "#df_insert_procareETP_reduced = df_insert_procareETP.head(500)\n",
    "df_insert_procareETP.to_sql('PROCARE_ETP',engine,if_exists='append',index=False,chunksize=1000)"
   ]
  },
  {
   "cell_type": "code",
   "execution_count": 23,
   "id": "6afcbe86-ddb2-4ea7-8aba-e85830b850d5",
   "metadata": {},
   "outputs": [
    {
     "data": {
      "text/html": [
       "<div>\n",
       "<style scoped>\n",
       "    .dataframe tbody tr th:only-of-type {\n",
       "        vertical-align: middle;\n",
       "    }\n",
       "\n",
       "    .dataframe tbody tr th {\n",
       "        vertical-align: top;\n",
       "    }\n",
       "\n",
       "    .dataframe thead th {\n",
       "        text-align: right;\n",
       "    }\n",
       "</style>\n",
       "<table border=\"1\" class=\"dataframe\">\n",
       "  <thead>\n",
       "    <tr style=\"text-align: right;\">\n",
       "      <th></th>\n",
       "      <th>Jour</th>\n",
       "      <th>DayNumber</th>\n",
       "      <th>Database</th>\n",
       "      <th>PersonID</th>\n",
       "      <th>SchoolID</th>\n",
       "      <th>ETP</th>\n",
       "      <th>ExtractDate</th>\n",
       "    </tr>\n",
       "  </thead>\n",
       "  <tbody>\n",
       "    <tr>\n",
       "      <th>0</th>\n",
       "      <td>2019-04-01</td>\n",
       "      <td>1</td>\n",
       "      <td>Procare_52769129</td>\n",
       "      <td>146</td>\n",
       "      <td>4</td>\n",
       "      <td>0.2</td>\n",
       "      <td>2022-01-06</td>\n",
       "    </tr>\n",
       "    <tr>\n",
       "      <th>1</th>\n",
       "      <td>2019-04-08</td>\n",
       "      <td>1</td>\n",
       "      <td>Procare_52769129</td>\n",
       "      <td>146</td>\n",
       "      <td>4</td>\n",
       "      <td>0.2</td>\n",
       "      <td>2022-01-06</td>\n",
       "    </tr>\n",
       "    <tr>\n",
       "      <th>2</th>\n",
       "      <td>2019-04-15</td>\n",
       "      <td>1</td>\n",
       "      <td>Procare_52769129</td>\n",
       "      <td>146</td>\n",
       "      <td>4</td>\n",
       "      <td>0.2</td>\n",
       "      <td>2022-01-06</td>\n",
       "    </tr>\n",
       "    <tr>\n",
       "      <th>3</th>\n",
       "      <td>2019-04-22</td>\n",
       "      <td>1</td>\n",
       "      <td>Procare_52769129</td>\n",
       "      <td>146</td>\n",
       "      <td>4</td>\n",
       "      <td>0.2</td>\n",
       "      <td>2022-01-06</td>\n",
       "    </tr>\n",
       "    <tr>\n",
       "      <th>4</th>\n",
       "      <td>2019-04-29</td>\n",
       "      <td>1</td>\n",
       "      <td>Procare_52769129</td>\n",
       "      <td>146</td>\n",
       "      <td>4</td>\n",
       "      <td>0.2</td>\n",
       "      <td>2022-01-06</td>\n",
       "    </tr>\n",
       "    <tr>\n",
       "      <th>...</th>\n",
       "      <td>...</td>\n",
       "      <td>...</td>\n",
       "      <td>...</td>\n",
       "      <td>...</td>\n",
       "      <td>...</td>\n",
       "      <td>...</td>\n",
       "      <td>...</td>\n",
       "    </tr>\n",
       "    <tr>\n",
       "      <th>495</th>\n",
       "      <td>2019-05-09</td>\n",
       "      <td>4</td>\n",
       "      <td>Procare_52769129</td>\n",
       "      <td>146</td>\n",
       "      <td>4</td>\n",
       "      <td>0.2</td>\n",
       "      <td>2022-01-06</td>\n",
       "    </tr>\n",
       "    <tr>\n",
       "      <th>496</th>\n",
       "      <td>2019-05-16</td>\n",
       "      <td>4</td>\n",
       "      <td>Procare_52769129</td>\n",
       "      <td>146</td>\n",
       "      <td>4</td>\n",
       "      <td>0.2</td>\n",
       "      <td>2022-01-06</td>\n",
       "    </tr>\n",
       "    <tr>\n",
       "      <th>497</th>\n",
       "      <td>2019-05-23</td>\n",
       "      <td>4</td>\n",
       "      <td>Procare_52769129</td>\n",
       "      <td>146</td>\n",
       "      <td>4</td>\n",
       "      <td>0.2</td>\n",
       "      <td>2022-01-06</td>\n",
       "    </tr>\n",
       "    <tr>\n",
       "      <th>498</th>\n",
       "      <td>2019-05-30</td>\n",
       "      <td>4</td>\n",
       "      <td>Procare_52769129</td>\n",
       "      <td>146</td>\n",
       "      <td>4</td>\n",
       "      <td>0.2</td>\n",
       "      <td>2022-01-06</td>\n",
       "    </tr>\n",
       "    <tr>\n",
       "      <th>499</th>\n",
       "      <td>2019-06-06</td>\n",
       "      <td>4</td>\n",
       "      <td>Procare_52769129</td>\n",
       "      <td>146</td>\n",
       "      <td>4</td>\n",
       "      <td>0.2</td>\n",
       "      <td>2022-01-06</td>\n",
       "    </tr>\n",
       "  </tbody>\n",
       "</table>\n",
       "<p>500 rows × 7 columns</p>\n",
       "</div>"
      ],
      "text/plain": [
       "          Jour  DayNumber          Database  PersonID  SchoolID  ETP  \\\n",
       "0   2019-04-01          1  Procare_52769129       146         4  0.2   \n",
       "1   2019-04-08          1  Procare_52769129       146         4  0.2   \n",
       "2   2019-04-15          1  Procare_52769129       146         4  0.2   \n",
       "3   2019-04-22          1  Procare_52769129       146         4  0.2   \n",
       "4   2019-04-29          1  Procare_52769129       146         4  0.2   \n",
       "..         ...        ...               ...       ...       ...  ...   \n",
       "495 2019-05-09          4  Procare_52769129       146         4  0.2   \n",
       "496 2019-05-16          4  Procare_52769129       146         4  0.2   \n",
       "497 2019-05-23          4  Procare_52769129       146         4  0.2   \n",
       "498 2019-05-30          4  Procare_52769129       146         4  0.2   \n",
       "499 2019-06-06          4  Procare_52769129       146         4  0.2   \n",
       "\n",
       "    ExtractDate  \n",
       "0    2022-01-06  \n",
       "1    2022-01-06  \n",
       "2    2022-01-06  \n",
       "3    2022-01-06  \n",
       "4    2022-01-06  \n",
       "..          ...  \n",
       "495  2022-01-06  \n",
       "496  2022-01-06  \n",
       "497  2022-01-06  \n",
       "498  2022-01-06  \n",
       "499  2022-01-06  \n",
       "\n",
       "[500 rows x 7 columns]"
      ]
     },
     "execution_count": 23,
     "metadata": {},
     "output_type": "execute_result"
    }
   ],
   "source": [
    "#vérification de l'insertion des lignes \n",
    "pd.read_sql('PROCARE_ETP',engine)"
   ]
  }
 ],
 "metadata": {
  "kernelspec": {
   "display_name": "Python 3 (ipykernel)",
   "language": "python",
   "name": "python3"
  },
  "language_info": {
   "codemirror_mode": {
    "name": "ipython",
    "version": 3
   },
   "file_extension": ".py",
   "mimetype": "text/x-python",
   "name": "python",
   "nbconvert_exporter": "python",
   "pygments_lexer": "ipython3",
   "version": "3.10.1"
  }
 },
 "nbformat": 4,
 "nbformat_minor": 5
}
